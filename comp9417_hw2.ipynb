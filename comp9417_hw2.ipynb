{
 "cells": [
  {
   "cell_type": "markdown",
   "metadata": {},
   "source": [
    "# COMP9417 19T3  Homework 2: Applying and Implementing Machine Learning"
   ]
  },
  {
   "cell_type": "markdown",
   "metadata": {},
   "source": [
    "# Question 1"
   ]
  },
  {
   "cell_type": "markdown",
   "metadata": {},
   "source": [
    "## Question 1 – Learning curve \n",
    "\n",
    "The number of data instances required to effectively learn the target function depends on dataset characteristics and the learning algorithm. In this question, you will interpret results of learning three different datasets by two machine learning algorithms trained on varying size of data, from 5% to 90% of the dataset. After training on a fraction of the dataset, the model is tested using the rest of the dataset. For example, if 40% of data is used for training, the remaining 60% of the dataset is used for testing the trained model.\n",
    "The datasets are from different, real-world  domains, and vary in size from a few hundred to a couple of thousand instances. For a smoother learning curve, the training is done in a cross validation fashion.\n",
    "\n",
    "\n",
    "### Running the classifiers\n",
    "\n",
    "**1(a). [0.5 mark]** \n",
    "\n",
    "Run the code section in the notebook cells below. This will generate a table of results, which you should copy and paste **WITHOUT MODIFICATION** into you report as your answer for \"Question 1(a)\". \n",
    "\n",
    "The output of the code section is a table, which represents the percentage accuracy of classification for the decision tree algorithm. Each of the columns shows accuracy for a model trained on a different fraction of the dataset.\n",
    "\n",
    "### Result interpretation\n",
    "Answer these questions in your report file.  Your answers must be based on the results table you saved in \"Question 1(a)\".\n",
    "\n",
    "**1(b). [0.5 mark]** Refer to Homework2.pdf file.\n",
    "\n",
    "**1(c). [0.5 mark]** Refer to Homework2.pdf file."
   ]
  },
  {
   "cell_type": "code",
   "execution_count": 1,
   "metadata": {},
   "outputs": [],
   "source": [
    "# Code for question 1\n",
    "\n",
    "import numpy as np\n",
    "from scipy.io import arff\n",
    "import pandas as pd\n",
    "from sklearn.base import TransformerMixin\n",
    "from sklearn import tree\n",
    "from sklearn import preprocessing\n",
    "from sklearn.model_selection import train_test_split, GridSearchCV, learning_curve\n",
    "from sklearn.tree import DecisionTreeClassifier\n",
    "from sklearn.metrics import accuracy_score, f1_score, precision_score, recall_score, classification_report\n",
    "from sklearn.naive_bayes import BernoulliNB, MultinomialNB\n",
    "import sys\n",
    "import matplotlib.pyplot as plt \n",
    "%matplotlib inline\n"
   ]
  },
  {
   "cell_type": "code",
   "execution_count": 2,
   "metadata": {},
   "outputs": [],
   "source": [
    "# fixed random seed\n",
    "np.random.seed(1)\n",
    "def warn(*args, **kwargs):\n",
    "    pass\n",
    "import warnings\n",
    "warnings.warn = warn\n",
    "\n",
    "def label_enc(labels):\n",
    "    le = preprocessing.LabelEncoder()\n",
    "    le.fit(labels)\n",
    "    return le"
   ]
  },
  {
   "cell_type": "code",
   "execution_count": 3,
   "metadata": {},
   "outputs": [],
   "source": [
    "def load_data(path):\n",
    "    dataset = arff.loadarff(path)\n",
    "    data = pd.DataFrame(dataset[0])\n",
    "    attr = np.array(data.columns)\n",
    "    data = DataFrameImputer().fit_transform(data).values\n",
    "\n",
    "    # mask categorical features\n",
    "    masks = []\n",
    "    for i in range(len(attr)-1):\n",
    "        if isinstance(attr[i][1],float):\n",
    "            masks.append(i)\n",
    "    return data, masks\n",
    "\n",
    "class DataFrameImputer(TransformerMixin):\n",
    "\n",
    "    def fit(self, X, y=None):\n",
    "\n",
    "        self.fill = pd.Series([X[c].value_counts().index[0]\n",
    "            if X[c].dtype == np.dtype('O') else X[c].mean() for c in X],\n",
    "            index=X.columns)\n",
    "\n",
    "        return self\n",
    "\n",
    "    def transform(self, X, y=None):\n",
    "        return X.fillna(self.fill)\n",
    "\n",
    "def get_method_scores(data, method):\n",
    "    X = data[:,0:data.shape[1]-1]\n",
    "    lenc = label_enc(data[:,data.shape[1]-1])\n",
    "    y = lenc.transform(data[:,data.shape[1]-1])\n",
    "    train_sizes = np.array([0.05, .1, .15, .2, .25, .3, .35, .4, .45, .5])\n",
    "    _, train_scores, test_scores = learning_curve(method, X, y, cv=5, \n",
    "                                                  train_sizes=train_sizes,\n",
    "                                                  scoring=None, shuffle=False, random_state=0, \n",
    "                                                  error_score=0)\n",
    "    return test_scores"
   ]
  },
  {
   "cell_type": "code",
   "execution_count": 5,
   "metadata": {
    "scrolled": true
   },
   "outputs": [
    {
     "name": "stdout",
     "output_type": "stream",
     "text": [
      "                          DecisionTreeClassifier                           \n",
      "---------------------------------------------------------------------------------------------------------\n",
      "   Dataset    |   5%   |  10%   |  15%   |  20%   |  25%   |  30%   |  35%   |  40%   |  45%   |  50%   |\n",
      "---------------------------------------------------------------------------------------------------------\n",
      "australian    | 72.61% | 74.63% | 75.52% | 77.53% | 77.97% | 79.86% | 83.05% | 81.29% | 80.14% | 82.91% |\n",
      "balance-scale | 70.10% | 72.47% | 71.20% | 75.69% | 73.77% | 75.67% | 77.74% | 75.99% | 78.09% | 76.98% |\n",
      "hypothyroid   | 94.94% | 96.31% | 97.77% | 99.18% | 99.21% | 99.42% | 99.42% | 99.52% | 99.34% | 99.20% |\n",
      "\n",
      "\n",
      "                          BernoulliNB with priors                          \n",
      "---------------------------------------------------------------------------------------------------------\n",
      "   Dataset    |   5%   |  10%   |  15%   |  20%   |  25%   |  30%   |  35%   |  40%   |  45%   |  50%   |\n",
      "---------------------------------------------------------------------------------------------------------\n",
      "australian    | 73.47% | 79.85% | 81.72% | 80.43% | 79.69% | 79.84% | 80.12% | 81.14% | 82.16% | 81.28% |\n",
      "balance-scale | 46.08% | 46.08% | 46.08% | 46.08% | 46.08% | 46.08% | 46.08% | 46.08% | 46.08% | 46.08% |\n",
      "hypothyroid   | 91.38% | 91.81% | 92.23% | 92.23% | 92.23% | 92.26% | 92.23% | 92.23% | 92.23% | 92.23% |\n",
      "\n",
      "\n"
     ]
    }
   ],
   "source": [
    "def test_method(method, title):\n",
    "    # load data\n",
    "    paths = ['australian','balance-scale','hypothyroid']\n",
    "    scores = []\n",
    "\n",
    "    for path in paths:\n",
    "        score = []\n",
    "        path += '.arff'\n",
    "        data, masks = load_data(path)\n",
    "\n",
    "        # training on data with different portions of training data\n",
    "        score_array = get_method_scores(data, method)\n",
    "        # we got a [num portions][num folds] array, need to avg them into \n",
    "        # a list of scores for each portion\n",
    "        for ar in score_array:\n",
    "            score.append(np.mean(ar))\n",
    "        scores.append(score)\n",
    "\n",
    "    # print the results\n",
    "    method_name = method.__class__.__name__+' '+title\n",
    "    header = \"{:^75}\".format(method_name) + '\\n' + '-' * 105  + '\\n' + \\\n",
    "    \"{:^13} | {:^6} | {:^6} | {:^6} | {:^6} | {:^6} | {:^6} | {:^6} | {:^6} | {:^6} | {:^6} |\" \\\n",
    "    .format(\"Dataset\", \"5%\", \"10%\", \"15%\", \"20%\", \"25%\", \"30%\", \"35%\", \"40%\", \"45%\", \"50%\") + \\\n",
    "     '\\n' + '-' * 105\n",
    "\n",
    "    # print result table\n",
    "    print(header)\n",
    "    for i in range(len(scores)):\n",
    "        print(\"{:<14}\".format(paths[i]),end=\"\")\n",
    "        for j in range(len(scores[i])):\n",
    "            print(\"| {:>6.2%} \".format(scores[i][j]),end=\"\")\n",
    "        print('|')\n",
    "    print('\\n')\n",
    "\n",
    "test_method(DecisionTreeClassifier(random_state=0),'')\n",
    "test_method(BernoulliNB(),'with priors')"
   ]
  },
  {
   "cell_type": "markdown",
   "metadata": {},
   "source": [
    "1b. \n",
    "\n",
    "--- (1) none of the 6 models show a learning curve\n",
    "\n",
    "--- (2) all of the 6 models show a learning curve\n",
    "\n",
    "T (3) most of the 6 models show a learning curve\n",
    "\n",
    "T (4) All 3 Decision Tree models are generally better than Bernoulli Naive Bayes models\n",
    "\n",
    "--- (5) Some Bernoulli Naive Bayes models are better than Decision Tree models\n"
   ]
  },
  {
   "cell_type": "code",
   "execution_count": 6,
   "metadata": {},
   "outputs": [
    {
     "name": "stdout",
     "output_type": "stream",
     "text": [
      "                        BernoulliNB WITHOUT priors                         \n",
      "---------------------------------------------------------------------------------------------------------\n",
      "   Dataset    |   5%   |  10%   |  15%   |  20%   |  25%   |  30%   |  35%   |  40%   |  45%   |  50%   |\n",
      "---------------------------------------------------------------------------------------------------------\n",
      "australian    | 73.62% | 79.27% | 81.44% | 78.98% | 78.40% | 79.69% | 78.52% | 79.83% | 80.41% | 80.41% |\n",
      "balance-scale | 46.08% | 46.08% | 46.08% | 46.08% | 46.08% | 46.08% | 46.08% | 46.08% | 46.08% | 46.08% |\n",
      "hypothyroid   | 83.88% | 79.59% | 77.44% | 74.79% | 73.12% | 65.05% | 53.60% | 51.30% | 51.09% | 50.26% |\n",
      "\n",
      "\n"
     ]
    }
   ],
   "source": [
    "test_method(BernoulliNB(fit_prior=False),'WITHOUT priors')"
   ]
  },
  {
   "cell_type": "markdown",
   "metadata": {},
   "source": [
    "T (1) BNB preforms better with priors\n",
    "\n",
    "--- (2) BNB preforms better without priors\n",
    "\n",
    "--- (3) there is no difference in performance when using BNB with or without priors"
   ]
  },
  {
   "cell_type": "code",
   "execution_count": 106,
   "metadata": {},
   "outputs": [
    {
     "name": "stdout",
     "output_type": "stream",
     "text": [
      "<class 'pandas.core.frame.DataFrame'>\n",
      "RangeIndex: 887 entries, 0 to 886\n",
      "Data columns (total 6 columns):\n",
      "Pclass                     887 non-null int64\n",
      "Sex                        887 non-null int64\n",
      "Age                        887 non-null int64\n",
      "Siblings_Spouses_Aboard    887 non-null int64\n",
      "Parents_Children_Aboard    887 non-null int64\n",
      "Survived                   887 non-null int64\n",
      "dtypes: int64(6)\n",
      "memory usage: 41.7 KB\n",
      "Pclass 1 2\n",
      "Sex 0 1\n",
      "Age 0 80\n",
      "Siblings_Spouses_Aboard 0 8\n",
      "Parents_Children_Aboard 0 6\n",
      "Survived 0 1\n"
     ]
    },
    {
     "data": {
      "text/html": [
       "<div>\n",
       "<style scoped>\n",
       "    .dataframe tbody tr th:only-of-type {\n",
       "        vertical-align: middle;\n",
       "    }\n",
       "\n",
       "    .dataframe tbody tr th {\n",
       "        vertical-align: top;\n",
       "    }\n",
       "\n",
       "    .dataframe thead th {\n",
       "        text-align: right;\n",
       "    }\n",
       "</style>\n",
       "<table border=\"1\" class=\"dataframe\">\n",
       "  <thead>\n",
       "    <tr style=\"text-align: right;\">\n",
       "      <th></th>\n",
       "      <th>Pclass</th>\n",
       "      <th>Sex</th>\n",
       "      <th>Age</th>\n",
       "      <th>Siblings_Spouses_Aboard</th>\n",
       "      <th>Parents_Children_Aboard</th>\n",
       "      <th>Survived</th>\n",
       "    </tr>\n",
       "  </thead>\n",
       "  <tbody>\n",
       "    <tr>\n",
       "      <td>0</td>\n",
       "      <td>1.0</td>\n",
       "      <td>1.0</td>\n",
       "      <td>0.250</td>\n",
       "      <td>0.125</td>\n",
       "      <td>0.0</td>\n",
       "      <td>0.0</td>\n",
       "    </tr>\n",
       "    <tr>\n",
       "      <td>1</td>\n",
       "      <td>0.0</td>\n",
       "      <td>0.0</td>\n",
       "      <td>0.375</td>\n",
       "      <td>0.125</td>\n",
       "      <td>0.0</td>\n",
       "      <td>1.0</td>\n",
       "    </tr>\n",
       "    <tr>\n",
       "      <td>2</td>\n",
       "      <td>1.0</td>\n",
       "      <td>0.0</td>\n",
       "      <td>0.250</td>\n",
       "      <td>0.000</td>\n",
       "      <td>0.0</td>\n",
       "      <td>1.0</td>\n",
       "    </tr>\n",
       "    <tr>\n",
       "      <td>3</td>\n",
       "      <td>0.0</td>\n",
       "      <td>0.0</td>\n",
       "      <td>0.375</td>\n",
       "      <td>0.125</td>\n",
       "      <td>0.0</td>\n",
       "      <td>1.0</td>\n",
       "    </tr>\n",
       "    <tr>\n",
       "      <td>4</td>\n",
       "      <td>1.0</td>\n",
       "      <td>1.0</td>\n",
       "      <td>0.375</td>\n",
       "      <td>0.000</td>\n",
       "      <td>0.0</td>\n",
       "      <td>0.0</td>\n",
       "    </tr>\n",
       "  </tbody>\n",
       "</table>\n",
       "</div>"
      ],
      "text/plain": [
       "   Pclass  Sex    Age  Siblings_Spouses_Aboard  Parents_Children_Aboard  \\\n",
       "0     1.0  1.0  0.250                    0.125                      0.0   \n",
       "1     0.0  0.0  0.375                    0.125                      0.0   \n",
       "2     1.0  0.0  0.250                    0.000                      0.0   \n",
       "3     0.0  0.0  0.375                    0.125                      0.0   \n",
       "4     1.0  1.0  0.375                    0.000                      0.0   \n",
       "\n",
       "   Survived  \n",
       "0       0.0  \n",
       "1       1.0  \n",
       "2       1.0  \n",
       "3       1.0  \n",
       "4       0.0  "
      ]
     },
     "execution_count": 106,
     "metadata": {},
     "output_type": "execute_result"
    }
   ],
   "source": [
    "df = pd.read_csv('titanic.csv')\n",
    "df.info()\n",
    "def normalize(val, min_val, range_val):\n",
    "    return float((val - min_val)/ range_val)\n",
    "    \n",
    "for col in df.columns: \n",
    "    min_val = np.amin(df[col])\n",
    "    range_val = np.amax(df[col]) - min_val\n",
    "    df[col] = df[col].astype(float)\n",
    "    print(col,min_val, range_val)\n",
    "    for i in range(df.shape[0]):\n",
    "        df[col][i] = normalize(df[col][i], min_val , range_val)\n",
    "df.head()"
   ]
  },
  {
   "cell_type": "code",
   "execution_count": 107,
   "metadata": {},
   "outputs": [
    {
     "name": "stdout",
     "output_type": "stream",
     "text": [
      "620\n",
      "     Pclass  Sex    Age  Siblings_Spouses_Aboard  Parents_Children_Aboard\n",
      "0       1.0  1.0  0.250                    0.125                 0.000000\n",
      "1       0.0  0.0  0.375                    0.125                 0.000000\n",
      "2       1.0  0.0  0.250                    0.000                 0.000000\n",
      "3       0.0  0.0  0.375                    0.125                 0.000000\n",
      "4       1.0  1.0  0.375                    0.000                 0.000000\n",
      "..      ...  ...    ...                      ...                      ...\n",
      "882     0.5  1.0  0.250                    0.000                 0.000000\n",
      "883     0.0  0.0  0.125                    0.000                 0.000000\n",
      "884     1.0  0.0  0.000                    0.125                 0.333333\n",
      "885     0.0  1.0  0.250                    0.000                 0.000000\n",
      "886     1.0  1.0  0.375                    0.000                 0.000000\n",
      "\n",
      "[887 rows x 5 columns]\n"
     ]
    }
   ],
   "source": [
    "split = int(0.7 * df.shape[0])\n",
    "\n",
    "input_cols = ['Pclass', 'Sex', 'Age', 'Siblings_Spouses_Aboard', 'Parents_Children_Aboard']\n",
    "out_cols = ['Survived']\n",
    "\n",
    "X = df[input_cols]\n",
    "y = df[out_cols]\n",
    "\n",
    "DT = DecisionTreeClassifier()\n",
    "print(split)\n",
    "DT.fit(X[:split], y[:split])\n",
    "print(X)"
   ]
  },
  {
   "cell_type": "code",
   "execution_count": 122,
   "metadata": {},
   "outputs": [
    {
     "name": "stdout",
     "output_type": "stream",
     "text": [
      "training 0.8564516129032258\n",
      "test 0.8314606741573034\n"
     ]
    }
   ],
   "source": [
    "print('training', DT.score(X[:split], y[:split]))\n",
    "print('test', DT.score(X[split:], y[split:]))"
   ]
  },
  {
   "cell_type": "code",
   "execution_count": 184,
   "metadata": {},
   "outputs": [
    {
     "name": "stdout",
     "output_type": "stream",
     "text": [
      "2 0.7976059941520469\n",
      "3 0.8050986842105262\n",
      "4 0.8080226608187134\n",
      "5 0.8086622807017544\n",
      "6 0.8086622807017544\n",
      "7 0.8086622807017544\n",
      "8 0.8086622807017544\n",
      "9 0.8050986842105262\n",
      "10 0.8103070175438597\n",
      "11 0.8050986842105262\n",
      "12 0.8167945906432748\n",
      "13 0.8080226608187134\n",
      "14 0.8028143274853802\n",
      "15 0.8028143274853802\n",
      "16 0.8028143274853802\n",
      "17 0.8028143274853802\n",
      "18 0.8028143274853802\n",
      "19 0.8028143274853802\n",
      "20 0.7930372807017544\n",
      "[test] top AUC score is at min_samples_leaf = 12\n"
     ]
    }
   ],
   "source": [
    "from sklearn.metrics import roc_auc_score\n",
    "START = 2\n",
    "END = 20 + 1\n",
    "\n",
    "def optimal_min_leaf(tx, ty, true_y, pred_xarg):\n",
    "    scores = []\n",
    "    for k in range(START, END):\n",
    "        dtc = DecisionTreeClassifier(min_samples_leaf=k)\n",
    "        dtc.fit(tx, ty)\n",
    "        score = roc_auc_score(true_y,dtc.predict(pred_xarg))\n",
    "        scores.append(score)\n",
    "        print(dtc.min_samples_leaf,score)\n",
    "    return START+np.argmax(scores)\n",
    "\n",
    "op_min_leaf = optimal_min_leaf(X[:split], y[:split], y[split:], X[split:])\n",
    "print('[test] top AUC score is at min_samples_leaf =', min_leaf)"
   ]
  },
  {
   "cell_type": "code",
   "execution_count": 148,
   "metadata": {},
   "outputs": [
    {
     "name": "stdout",
     "output_type": "stream",
     "text": [
      "2 0.8188448328333551\n",
      "3 0.820931698621799\n",
      "4 0.8161710360419111\n",
      "5 0.8114103734620234\n",
      "6 0.8114103734620234\n",
      "7 0.8114103734620234\n",
      "8 0.8114103734620234\n",
      "9 0.8143015521064301\n",
      "10 0.8157471414286336\n",
      "11 0.8089539585235425\n",
      "12 0.8034433285509325\n",
      "13 0.7894330681274727\n",
      "14 0.7873462023390287\n",
      "15 0.7873462023390287\n",
      "16 0.7873462023390287\n",
      "17 0.7873462023390287\n",
      "18 0.7873462023390287\n",
      "19 0.7873462023390287\n",
      "20 0.7806617103604191\n",
      "[training] top AUC score is at min_samples_leaf = 3\n"
     ]
    }
   ],
   "source": [
    "print('[training] top AUC score is at min_samples_leaf =',  optimal_min_leaf(X[:split], y[:split],y[:split],X[:split] ))"
   ]
  },
  {
   "cell_type": "code",
   "execution_count": 146,
   "metadata": {},
   "outputs": [
    {
     "data": {
      "text/plain": [
       "[<matplotlib.axis.XTick at 0x22213ee9a08>,\n",
       " <matplotlib.axis.XTick at 0x22213f95d08>,\n",
       " <matplotlib.axis.XTick at 0x22213cff908>,\n",
       " <matplotlib.axis.XTick at 0x22215454a48>,\n",
       " <matplotlib.axis.XTick at 0x22215321ec8>,\n",
       " <matplotlib.axis.XTick at 0x22215454248>,\n",
       " <matplotlib.axis.XTick at 0x2221608da08>,\n",
       " <matplotlib.axis.XTick at 0x22215cd4708>,\n",
       " <matplotlib.axis.XTick at 0x22215cd45c8>,\n",
       " <matplotlib.axis.XTick at 0x22215639408>,\n",
       " <matplotlib.axis.XTick at 0x222155e0fc8>,\n",
       " <matplotlib.axis.XTick at 0x2221544a948>,\n",
       " <matplotlib.axis.XTick at 0x2221544ac48>,\n",
       " <matplotlib.axis.XTick at 0x22215cd41c8>,\n",
       " <matplotlib.axis.XTick at 0x2221608dd88>,\n",
       " <matplotlib.axis.XTick at 0x2221555ee48>,\n",
       " <matplotlib.axis.XTick at 0x2221554e788>,\n",
       " <matplotlib.axis.XTick at 0x222155413c8>,\n",
       " <matplotlib.axis.XTick at 0x22215541dc8>]"
      ]
     },
     "execution_count": 146,
     "metadata": {},
     "output_type": "execute_result"
    },
    {
     "data": {
      "image/png": "[encoded data removed]",
      "text/plain": [
       "<Figure size 1080x1080 with 2 Axes>"
      ]
     },
     "metadata": {
      "needs_background": "light"
     },
     "output_type": "display_data"
    }
   ],
   "source": [
    "f, (p1, p2)= plt.subplots(2, 1, figsize=(15,15))\n",
    "\n",
    "p1.plot(np.arange(START, END), scores)\n",
    "p1.title.set_text('test set AUC score')\n",
    "p1.set_xticks(np.arange(START, END), minor=False)\n",
    "\n",
    "p2.plot(np.arange(START, END), train_scores)\n",
    "p2.title.set_text('training set AUC score')\n",
    "p2.set_xticks(np.arange(START, END), minor=False)\n"
   ]
  },
  {
   "cell_type": "code",
   "execution_count": 157,
   "metadata": {},
   "outputs": [
    {
     "name": "stdout",
     "output_type": "stream",
     "text": [
      "     Pclass  Sex\n",
      "0         3    1\n",
      "1         1    0\n",
      "2         3    0\n",
      "3         1    0\n",
      "4         3    1\n",
      "..      ...  ...\n",
      "882       2    1\n",
      "883       1    0\n",
      "884       3    0\n",
      "885       1    1\n",
      "886       3    1\n",
      "\n",
      "[887 rows x 2 columns]\n",
      "     Survived\n",
      "0           0\n",
      "1           1\n",
      "2           1\n",
      "3           1\n",
      "4           0\n",
      "..        ...\n",
      "882         0\n",
      "883         1\n",
      "884         0\n",
      "885         1\n",
      "886         0\n",
      "\n",
      "[887 rows x 1 columns]\n"
     ]
    }
   ],
   "source": [
    "x_input_col = ['Pclass', 'Sex']\n",
    "y_input_col = ['Survived']\n",
    "\n",
    "X_f1 = data[x_input_col]\n",
    "y_f1 = data[y_input_col]\n",
    "print(X_f1)\n",
    "print(y_f1)"
   ]
  },
  {
   "cell_type": "code",
   "execution_count": 188,
   "metadata": {},
   "outputs": [
    {
     "name": "stdout",
     "output_type": "stream",
     "text": [
      "342\n",
      "122\n",
      "45\n",
      "77\n",
      "0.3855693348365276\n",
      "0.1375422773393461\n",
      "0.13157894736842105\n",
      "0.050732807215332576\n",
      "0.08680947012401352\n",
      "0.36885245901639346\n",
      "[[0.63114754 0.36885246]]\n"
     ]
    }
   ],
   "source": [
    "CLASS =1\n",
    "FEMALE = 1\n",
    "\n",
    "total_s = 0\n",
    "total_d = 0\n",
    "total_ds = 0\n",
    "total_dns = 0\n",
    "\n",
    "total = data.shape[0]\n",
    "for i in range(total):\n",
    "    s = False\n",
    "    if(y_f1['Survived'][i] == 1):\n",
    "        total_s+=1\n",
    "        s = True\n",
    "    d = False\n",
    "    if(X_f1['Pclass'][i] == CLASS and X_f1['Sex'][i] == FEMALE):\n",
    "        total_d+=1\n",
    "        d = True\n",
    "    if(s and d):\n",
    "        total_ds +=1\n",
    "    if(not s and d):\n",
    "        total_dns +=1\n",
    "print(total_s)\n",
    "print(total_d)\n",
    "print(total_ds)\n",
    "print(total_dns)\n",
    "total_ns = total - total_s\n",
    "p_s = total_s / total\n",
    "p_ns = (total - total_s) / total\n",
    "p_d = total_d / total\n",
    "p_ds = total_ds/ total_s\n",
    "p_dns = total_dns / total_ns\n",
    "print(p_s)\n",
    "print(p_d)\n",
    "print(p_ds)\n",
    "p_sd = p_ds * p_s / (p_ds * p_s + p_dns * p_ns)\n",
    "print(p_ds * p_s)\n",
    "print(p_dns * p_ns)\n",
    "print(p_sd)\n",
    "\n",
    "dtc = DecisionTreeClassifier(min_samples_leaf=op_min_leaf)\n",
    "dtc.fit(X_f1, y_f1)\n",
    "print(dtc.predict_proba([[1,1]]))"
   ]
  },
  {
   "cell_type": "code",
   "execution_count": null,
   "metadata": {},
   "outputs": [],
   "source": []
  }
 ],
 "metadata": {
  "kernelspec": {
   "display_name": "Python 3",
   "language": "python",
   "name": "python3"
  },
  "language_info": {
   "codemirror_mode": {
    "name": "ipython",
    "version": 3
   },
   "file_extension": ".py",
   "mimetype": "text/x-python",
   "name": "python",
   "nbconvert_exporter": "python",
   "pygments_lexer": "ipython3",
   "version": "3.7.4"
  }
 },
 "nbformat": 4,
 "nbformat_minor": 2
}
